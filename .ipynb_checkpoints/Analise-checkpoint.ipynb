{
 "cells": [
  {
   "cell_type": "markdown",
   "id": "33744587-8915-4018-b767-ffbf2c9bfffa",
   "metadata": {},
   "source": [
    "### Segunda Avaliação"
   ]
  },
  {
   "cell_type": "markdown",
   "id": "70d05d91-d4b5-4f46-ac57-b060d2f54119",
   "metadata": {},
   "source": [
    "#### Glória Xavier Gazola"
   ]
  },
  {
   "cell_type": "markdown",
   "id": "e8ef835e-1040-44b6-883b-e28cb86fc815",
   "metadata": {},
   "source": [
    "#### Importando bibliotecas"
   ]
  },
  {
   "cell_type": "code",
   "execution_count": 3,
   "id": "d727c30c-7301-4b05-80d0-bdb95dec8d2e",
   "metadata": {},
   "outputs": [],
   "source": [
    "import pandas as pd\n",
    "import matplotlib.pyplot as plt\n",
    "import seaborn as sns\n",
    "from scipy.stats import ttest_ind\n",
    "\n"
   ]
  },
  {
   "cell_type": "markdown",
   "id": "e1a2b793-7b83-4841-9ea3-922a14a4bc64",
   "metadata": {},
   "source": [
    "#### 2.1 - Exploração de Dados\n",
    " - Entender os dados antes de utilizá-los, sua estrutura e características principais\n"
   ]
  },
  {
   "cell_type": "code",
   "execution_count": null,
   "id": "04dd4f7f-3b14-4cdf-ac3e-45dad92e8d6a",
   "metadata": {},
   "outputs": [],
   "source": [
    "df = pd.read_csv('')"
   ]
  },
  {
   "cell_type": "code",
   "execution_count": null,
   "id": "ab62453e-4ebf-48d0-af68-579409bb73bc",
   "metadata": {},
   "outputs": [],
   "source": [
    "df.head(5)"
   ]
  },
  {
   "cell_type": "code",
   "execution_count": null,
   "id": "298694ad-1ab5-4b8b-8df1-7bb052755c10",
   "metadata": {},
   "outputs": [],
   "source": [
    "df.shape"
   ]
  },
  {
   "cell_type": "code",
   "execution_count": null,
   "id": "8a2b79cb-3eeb-4562-9b8a-c5f82c3e8c53",
   "metadata": {},
   "outputs": [],
   "source": [
    "df.describe()"
   ]
  },
  {
   "cell_type": "code",
   "execution_count": null,
   "id": "3da87e04-67a9-4154-bfa5-a5b160c3d4c4",
   "metadata": {},
   "outputs": [],
   "source": [
    "df.info()"
   ]
  },
  {
   "cell_type": "code",
   "execution_count": null,
   "id": "d2ada012-a00c-496e-bce5-b197506873ae",
   "metadata": {},
   "outputs": [],
   "source": [
    "df.isnull().sum().sort_values(ascending=False)"
   ]
  },
  {
   "cell_type": "markdown",
   "id": "1a26c9c1-ba44-4311-8e11-316d51bf0314",
   "metadata": {},
   "source": [
    "#### 2.2 - Limpeza de Dados\n",
    "- Identificar dados incorretos ou irrelevantes e substituí-los ou removê-los"
   ]
  },
  {
   "cell_type": "markdown",
   "id": "40107349-7de8-439c-91c6-1864abfcc48f",
   "metadata": {},
   "source": [
    "#### Removendo as duplicatas dos dataframes\n"
   ]
  },
  {
   "cell_type": "code",
   "execution_count": 10,
   "id": "79b52e42-78ac-48dd-b839-1bb705befb29",
   "metadata": {},
   "outputs": [
    {
     "ename": "NameError",
     "evalue": "name 'df' is not defined",
     "output_type": "error",
     "traceback": [
      "\u001b[0;31m---------------------------------------------------------------------------\u001b[0m",
      "\u001b[0;31mNameError\u001b[0m                                 Traceback (most recent call last)",
      "Cell \u001b[0;32mIn[10], line 1\u001b[0m\n\u001b[0;32m----> 1\u001b[0m df \u001b[38;5;241m=\u001b[39m df\u001b[38;5;241m.\u001b[39mdrop_duplicates()\n\u001b[1;32m      3\u001b[0m \u001b[38;5;66;03m#conferindo quantas linhas foram removidas\u001b[39;00m\n\u001b[1;32m      4\u001b[0m df\u001b[38;5;241m.\u001b[39mshape\n",
      "\u001b[0;31mNameError\u001b[0m: name 'df' is not defined"
     ]
    }
   ],
   "source": [
    "df = df.drop_duplicates()\n",
    "\n",
    "#conferindo quantas linhas foram removidas\n",
    "df.shape"
   ]
  },
  {
   "cell_type": "markdown",
   "id": "1ba7ed40-382d-41b7-95d9-e5502b721613",
   "metadata": {},
   "source": [
    "#### Removendo zeros\n"
   ]
  },
  {
   "cell_type": "code",
   "execution_count": null,
   "id": "85c42ea9-b6c3-4d61-ba8d-0b6191d5d82c",
   "metadata": {},
   "outputs": [],
   "source": [
    "# Preencher valores nulos para colunas numéricas com a média\n",
    "for column in df.select_dtypes(include=['float64', 'int64']):\n",
    "    df[column].fillna(df[column].mean(), inplace=True)\n",
    "\n",
    "# Preencher valores nulos para colunas categóricas com a moda\n",
    "for column in df.select_dtypes(include=['object']):\n",
    "    df[column].fillna(df[column].mode()[0], inplace=True)\n",
    "\n",
    "# Verificar novamente valores nulos após o tratamento\n",
    "print(\"Valores nulos por coluna após o tratamento:\")\n",
    "print(df.isnull().sum())"
   ]
  },
  {
   "cell_type": "markdown",
   "id": "c80c2b57-82fb-40cb-b669-00c3008f91cc",
   "metadata": {},
   "source": [
    "### 2.3 Análise Exploratória"
   ]
  },
  {
   "cell_type": "code",
   "execution_count": null,
   "id": "52ad52e5-849f-4757-be75-7c0bedb5f3dc",
   "metadata": {},
   "outputs": [],
   "source": [
    "import pandas as pd\n",
    "\n",
    "# Carregar o DataFrame (substitua pelo seu arquivo)\n",
    "# df = pd.read_csv('seu_arquivo.csv')\n",
    "\n",
    "# 1. Verificar a distribuição de valores únicos por coluna\n",
    "print(\"\\nValores únicos por coluna:\")\n",
    "for column in df.columns:\n",
    "    print(f\"{column}: {df[column].nunique()} valores únicos\")\n",
    "\n",
    "# 2. Identificar colunas numéricas e categóricas\n",
    "numerical_columns = df.select_dtypes(include=['float64', 'int64']).columns\n",
    "categorical_columns = df.select_dtypes(include=['object']).columns\n",
    "print(\"\\nColunas numéricas:\", numerical_columns.tolist())\n",
    "print(\"\\nColunas categóricas:\", categorical_columns.tolist())\n",
    "\n",
    "# 3. Análise de frequências para variáveis categóricas\n",
    "print(\"\\nAnálise de frequências para variáveis categóricas:\")\n",
    "for column in categorical_columns:\n",
    "    print(f\"\\nFrequência da variável {column}:\")\n",
    "    print(df[column].value_counts(normalize=True).head(10))  # Top 10 valores mais frequentes\n",
    "\n",
    "# 4. Estatísticas resumidas para variáveis numéricas\n",
    "print(\"\\nEstatísticas resumidas para variáveis numéricas:\")\n",
    "for column in numerical_columns:\n",
    "    print(f\"\\nResumo da variável {column}:\")\n",
    "    print(f\"Máximo: {df[column].max()}\")\n",
    "    print(f\"Mínimo: {df[column].min()}\")\n",
    "    print(f\"Média: {df[column].mean()}\")\n",
    "    print(f\"Mediana: {df[column].median()}\")\n",
    "    print(f\"Desvio padrão: {df[column].std()}\")\n",
    "\n",
    "# 5. Análise de combinações entre variáveis categóricas\n",
    "if len(categorical_columns) > 1:\n",
    "    print(\"\\nCombinações de frequências entre variáveis categóricas:\")\n",
    "    for col1 in categorical_columns[:2]:  # Limitar a análise inicial\n",
    "        for col2 in categorical_columns[1:]:\n",
    "            if col1 != col2:\n",
    "                print(f\"\\nCruzamento entre {col1} e {col2}:\")\n",
    "                print(pd.crosstab(df[col1], df[col2], normalize='index').head())\n",
    "\n",
    "# 6. Análise de agrupamentos para colunas numéricas\n",
    "print(\"\\nAgrupamentos com colunas numéricas:\")\n",
    "for cat_col in categorical_columns:\n",
    "    print(f\"\\nMédias das colunas numéricas agrupadas por {cat_col}:\")\n",
    "    print(df.groupby(cat_col)[numerical_columns].mean().head())\n",
    "\n",
    "# 7. Criação de novas variáveis baseadas em operações existentes\n",
    "print(\"\\nCriando novas variáveis:\")\n",
    "if len(numerical_columns) >= 2:\n",
    "    df['soma_numericas'] = df[numerical_columns[0]] + df[numerical_columns[1]]\n",
    "    df['dif_numericas'] = df[numerical_columns[0]] - df[numerical_columns[1]]\n",
    "    print(\"Novas colunas criadas: 'soma_numericas' e 'dif_numericas'\")\n",
    "    print(df[['soma_numericas', 'dif_numericas']].head())\n",
    "\n",
    "# 8. Detecção de valores raros ou outliers simples\n",
    "print(\"\\nValores raros em variáveis categóricas:\")\n",
    "for column in categorical_columns:\n",
    "    rare_values = df[column].value_counts()[df[column].value_counts() < 5]\n",
    "    print(f\"\\nValores raros na variável {column}:\")\n",
    "    print(rare_values)\n",
    "\n",
    "print(\"\\nFinalizado!\")\n"
   ]
  },
  {
   "cell_type": "code",
   "execution_count": null,
   "id": "107e936c-f904-471f-b1eb-c850be19f2ba",
   "metadata": {},
   "outputs": [],
   "source": [
    "# "
   ]
  },
  {
   "cell_type": "markdown",
   "id": "0c941a72-0990-452c-b791-7b3d7ab9a2b7",
   "metadata": {},
   "source": [
    "### 2.4 Visualizações (Gráficos)"
   ]
  },
  {
   "cell_type": "markdown",
   "id": "52b0be8b-2a39-4897-a32c-92e2395277c3",
   "metadata": {},
   "source": [
    "#### Gráfico de Barras"
   ]
  },
  {
   "cell_type": "code",
   "execution_count": null,
   "id": "bed118de-a007-48fb-b06e-15d69e310529",
   "metadata": {},
   "outputs": [],
   "source": [
    "import matplotlib.pyplot as plt\n",
    "import seaborn as sns\n",
    "\n",
    "# Exemplo de gráfico de barras\n",
    "plt.figure(figsize=(8, 6))\n",
    "sns.countplot(data=data, x='coluna_categorica')\n",
    "plt.title('Gráfico de Barras')\n",
    "plt.xlabel('Categorias')\n",
    "plt.ylabel('Contagem')\n",
    "plt.xticks(rotation=45)\n",
    "plt.show()\n"
   ]
  },
  {
   "cell_type": "markdown",
   "id": "7fa8346e-0a86-4ee9-8a27-25237418b319",
   "metadata": {},
   "source": [
    "#### Histograma"
   ]
  },
  {
   "cell_type": "code",
   "execution_count": null,
   "id": "192aefd4-afbc-4497-81c8-33aa4062e744",
   "metadata": {},
   "outputs": [],
   "source": [
    "# Exemplo de histograma\n",
    "plt.figure(figsize=(8, 6))\n",
    "sns.histplot(data=data, x='coluna_numerica', bins=20, kde=True, color='blue')\n",
    "plt.title('Histograma')\n",
    "plt.xlabel('Valores')\n",
    "plt.ylabel('Frequência')\n",
    "plt.show()\n"
   ]
  },
  {
   "cell_type": "markdown",
   "id": "bbd01a5a-9d87-4630-a9d8-ac5b0ac4f6c7",
   "metadata": {},
   "source": [
    "#### Gráfico de disperção (Scatterplot)"
   ]
  },
  {
   "cell_type": "code",
   "execution_count": null,
   "id": "efc2ce45-1feb-4aad-a285-f8021f9c923e",
   "metadata": {},
   "outputs": [],
   "source": [
    "# Exemplo de scatterplot\n",
    "plt.figure(figsize=(8, 6))\n",
    "sns.scatterplot(data=data, x='coluna_x', y='coluna_y', hue='coluna_categorica')\n",
    "plt.title('Gráfico de Dispersão')\n",
    "plt.xlabel('Coluna X')\n",
    "plt.ylabel('Coluna Y')\n",
    "plt.legend(title='Legenda')\n",
    "plt.show()\n"
   ]
  },
  {
   "cell_type": "markdown",
   "id": "b105d0d3-8db5-4e52-8d41-c1ef745b9a82",
   "metadata": {},
   "source": [
    "#### Boxplot"
   ]
  },
  {
   "cell_type": "code",
   "execution_count": null,
   "id": "c06a64cf-72dd-4519-8f50-94c513fa8291",
   "metadata": {},
   "outputs": [],
   "source": [
    "# Exemplo de boxplot\n",
    "plt.figure(figsize=(8, 6))\n",
    "sns.boxplot(data=data, x='coluna_categorica', y='coluna_numerica', palette='Set2')\n",
    "plt.title('Boxplot')\n",
    "plt.xlabel('Categorias')\n",
    "plt.ylabel('Valores')\n",
    "plt.xticks(rotation=45)\n",
    "plt.show()\n"
   ]
  },
  {
   "cell_type": "markdown",
   "id": "a44a1e99-4f40-48c5-b1c8-5bc649416332",
   "metadata": {},
   "source": [
    "#### Heatmap "
   ]
  },
  {
   "cell_type": "code",
   "execution_count": null,
   "id": "a613eac2-d285-4cfa-a955-c666ce332666",
   "metadata": {},
   "outputs": [],
   "source": [
    "# Exemplo de mapa de calor para correlações\n",
    "plt.figure(figsize=(10, 8))\n",
    "correlacao = data.corr()\n",
    "sns.heatmap(correlacao, annot=True, cmap='coolwarm', fmt=\".2f\")\n",
    "plt.title('Mapa de Calor das Correlações')\n",
    "plt.show()\n"
   ]
  },
  {
   "cell_type": "markdown",
   "id": "7aea3a59-254a-4475-a7dc-e78616d7e99f",
   "metadata": {},
   "source": [
    "#### Gráfico de linha"
   ]
  },
  {
   "cell_type": "code",
   "execution_count": null,
   "id": "02101cad-12d6-4637-b2f5-6c7a32c01e80",
   "metadata": {},
   "outputs": [],
   "source": [
    "# Exemplo de gráfico de linha\n",
    "plt.figure(figsize=(8, 6))\n",
    "sns.lineplot(data=data, x='coluna_temporal', y='coluna_valores', hue='coluna_categorica')\n",
    "plt.title('Gráfico de Linha')\n",
    "plt.xlabel('Eixo X')\n",
    "plt.ylabel('Eixo Y')\n",
    "plt.show()\n"
   ]
  },
  {
   "cell_type": "markdown",
   "id": "426dfed4-5763-47c5-ab1a-5d1fb6883e16",
   "metadata": {},
   "source": [
    "#### Pairplot (Relações entre variáveis numéricas)"
   ]
  },
  {
   "cell_type": "code",
   "execution_count": null,
   "id": "4cd87184-53c8-4202-9684-33bcf6655002",
   "metadata": {},
   "outputs": [],
   "source": [
    "# Exemplo de pairplot\n",
    "sns.pairplot(data=data, hue='coluna_categorica', diag_kind='kde')\n",
    "plt.suptitle('Pairplot', y=1.02)\n",
    "plt.show()\n"
   ]
  },
  {
   "cell_type": "code",
   "execution_count": null,
   "id": "3ce4e1df-af40-440c-a2d2-21edfd485ec4",
   "metadata": {},
   "outputs": [],
   "source": [
    "import streamlit as st\n",
    "import pandas as pd\n",
    "import seaborn as sns\n",
    "import matplotlib.pyplot as plt\n",
    "from scipy import stats\n",
    "\n",
    "# Título da aplicação\n",
    "st.title(\"Análise de Dados com Streamlit\")\n",
    "st.write(\"Neste exemplo, estamos realizando uma análise estatística e visualizando os dados.\")\n",
    "\n",
    "# Carregar os dados de um arquivo CSV (suponha que você tenha um arquivo 'dados.csv')\n",
    "# No caso, substitua pelo caminho do seu arquivo ou URL de um arquivo CSV\n",
    "df = pd.read_csv(\"dados.csv\")  # Exemplo de leitura do arquivo CSV\n",
    "\n",
    "# Exibir os dados carregados\n",
    "st.write(\"Exemplo de dados carregados:\")\n",
    "st.write(df.head())  # Exibe as 5 primeiras linhas do DataFrame\n",
    "\n",
    "# Assumindo que o DataFrame tenha duas colunas de interesse para o t-test\n",
    "# Substitua os nomes das colunas conforme seu DataFrame\n",
    "grupo1 = df['grupo1']  # Substitua 'grupo1' pelo nome real da coluna\n",
    "grupo2 = df['grupo2']  # Substitua 'grupo2' pelo nome real da coluna\n",
    "\n",
    "# Realizando a análise estatística (t-test)\n",
    "t_stat, p_value = stats.ttest_ind(grupo1, grupo2)\n",
    "\n",
    "# Exibindo os resultados do t-test\n",
    "st.subheader(\"Resultado do t-test\")\n",
    "st.write(f\"Estatística t: {t_stat:.3f}\")\n",
    "st.write(f\"Valor-p: {p_value:.3f}\")\n",
    "\n",
    "# Interpretação do valor-p\n",
    "if p_value < 0.05:\n",
    "    st.write(\"O valor-p é menor que 0.05, indicando que as médias dos dois grupos são significativamente diferentes.\")\n",
    "else:\n",
    "    st.write(\"O valor-p é maior ou igual a 0.05, indicando que não há diferença significativa entre os grupos.\")\n",
    "\n",
    "# Visualização dos dados\n",
    "st.subheader(\"Distribuição dos Grupos\")\n",
    "fig, ax = plt.subplots()\n",
    "sns.histplot(grupo1, kde=True, color='blue', label='Grupo 1', ax=ax)\n",
    "sns.histplot(grupo2, kde=True, color='red', label='Grupo 2', ax=ax)\n",
    "ax.legend()\n",
    "st.pyplot(fig)\n"
   ]
  }
 ],
 "metadata": {
  "kernelspec": {
   "display_name": "Python 3 (ipykernel)",
   "language": "python",
   "name": "python3"
  },
  "language_info": {
   "codemirror_mode": {
    "name": "ipython",
    "version": 3
   },
   "file_extension": ".py",
   "mimetype": "text/x-python",
   "name": "python",
   "nbconvert_exporter": "python",
   "pygments_lexer": "ipython3",
   "version": "3.12.4"
  }
 },
 "nbformat": 4,
 "nbformat_minor": 5
}
