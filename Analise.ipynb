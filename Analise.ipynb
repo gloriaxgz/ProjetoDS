{
 "cells": [
  {
   "cell_type": "markdown",
   "id": "33744587-8915-4018-b767-ffbf2c9bfffa",
   "metadata": {},
   "source": [
    "### Segunda Avaliação"
   ]
  },
  {
   "cell_type": "markdown",
   "id": "70d05d91-d4b5-4f46-ac57-b060d2f54119",
   "metadata": {},
   "source": [
    "#### Glória Xavier Gazola"
   ]
  },
  {
   "cell_type": "markdown",
   "id": "e8ef835e-1040-44b6-883b-e28cb86fc815",
   "metadata": {},
   "source": [
    "#### Importando bibliotecas"
   ]
  },
  {
   "cell_type": "code",
   "execution_count": 2,
   "id": "d727c30c-7301-4b05-80d0-bdb95dec8d2e",
   "metadata": {},
   "outputs": [],
   "source": [
    "import pandas as pd\n",
    "import matplotlib.pyplot as plt\n",
    "import seaborn as sns\n",
    "from scipy.stats import ttest_ind"
   ]
  },
  {
   "cell_type": "markdown",
   "id": "e1a2b793-7b83-4841-9ea3-922a14a4bc64",
   "metadata": {},
   "source": [
    "#### 2.1 - Exploração de Dados\n",
    " - Entender os dados antes de utilizá-los, sua estrutura e características principais\n"
   ]
  },
  {
   "cell_type": "code",
   "execution_count": 10,
   "id": "04dd4f7f-3b14-4cdf-ac3e-45dad92e8d6a",
   "metadata": {},
   "outputs": [],
   "source": [
    "df = pd.read_csv('vgchartz-2024.csv')"
   ]
  },
  {
   "cell_type": "code",
   "execution_count": 12,
   "id": "ab62453e-4ebf-48d0-af68-579409bb73bc",
   "metadata": {},
   "outputs": [
    {
     "data": {
      "text/html": [
       "<div>\n",
       "<style scoped>\n",
       "    .dataframe tbody tr th:only-of-type {\n",
       "        vertical-align: middle;\n",
       "    }\n",
       "\n",
       "    .dataframe tbody tr th {\n",
       "        vertical-align: top;\n",
       "    }\n",
       "\n",
       "    .dataframe thead th {\n",
       "        text-align: right;\n",
       "    }\n",
       "</style>\n",
       "<table border=\"1\" class=\"dataframe\">\n",
       "  <thead>\n",
       "    <tr style=\"text-align: right;\">\n",
       "      <th></th>\n",
       "      <th>img</th>\n",
       "      <th>title</th>\n",
       "      <th>console</th>\n",
       "      <th>genre</th>\n",
       "      <th>publisher</th>\n",
       "      <th>developer</th>\n",
       "      <th>critic_score</th>\n",
       "      <th>total_sales</th>\n",
       "      <th>na_sales</th>\n",
       "      <th>jp_sales</th>\n",
       "      <th>pal_sales</th>\n",
       "      <th>other_sales</th>\n",
       "      <th>release_date</th>\n",
       "      <th>last_update</th>\n",
       "    </tr>\n",
       "  </thead>\n",
       "  <tbody>\n",
       "    <tr>\n",
       "      <th>0</th>\n",
       "      <td>/games/boxart/full_6510540AmericaFrontccc.jpg</td>\n",
       "      <td>Grand Theft Auto V</td>\n",
       "      <td>PS3</td>\n",
       "      <td>Action</td>\n",
       "      <td>Rockstar Games</td>\n",
       "      <td>Rockstar North</td>\n",
       "      <td>9.4</td>\n",
       "      <td>20.32</td>\n",
       "      <td>6.37</td>\n",
       "      <td>0.99</td>\n",
       "      <td>9.85</td>\n",
       "      <td>3.12</td>\n",
       "      <td>2013-09-17</td>\n",
       "      <td>NaN</td>\n",
       "    </tr>\n",
       "    <tr>\n",
       "      <th>1</th>\n",
       "      <td>/games/boxart/full_5563178AmericaFrontccc.jpg</td>\n",
       "      <td>Grand Theft Auto V</td>\n",
       "      <td>PS4</td>\n",
       "      <td>Action</td>\n",
       "      <td>Rockstar Games</td>\n",
       "      <td>Rockstar North</td>\n",
       "      <td>9.7</td>\n",
       "      <td>19.39</td>\n",
       "      <td>6.06</td>\n",
       "      <td>0.60</td>\n",
       "      <td>9.71</td>\n",
       "      <td>3.02</td>\n",
       "      <td>2014-11-18</td>\n",
       "      <td>2018-01-03</td>\n",
       "    </tr>\n",
       "    <tr>\n",
       "      <th>2</th>\n",
       "      <td>/games/boxart/827563ccc.jpg</td>\n",
       "      <td>Grand Theft Auto: Vice City</td>\n",
       "      <td>PS2</td>\n",
       "      <td>Action</td>\n",
       "      <td>Rockstar Games</td>\n",
       "      <td>Rockstar North</td>\n",
       "      <td>9.6</td>\n",
       "      <td>16.15</td>\n",
       "      <td>8.41</td>\n",
       "      <td>0.47</td>\n",
       "      <td>5.49</td>\n",
       "      <td>1.78</td>\n",
       "      <td>2002-10-28</td>\n",
       "      <td>NaN</td>\n",
       "    </tr>\n",
       "    <tr>\n",
       "      <th>3</th>\n",
       "      <td>/games/boxart/full_9218923AmericaFrontccc.jpg</td>\n",
       "      <td>Grand Theft Auto V</td>\n",
       "      <td>X360</td>\n",
       "      <td>Action</td>\n",
       "      <td>Rockstar Games</td>\n",
       "      <td>Rockstar North</td>\n",
       "      <td>NaN</td>\n",
       "      <td>15.86</td>\n",
       "      <td>9.06</td>\n",
       "      <td>0.06</td>\n",
       "      <td>5.33</td>\n",
       "      <td>1.42</td>\n",
       "      <td>2013-09-17</td>\n",
       "      <td>NaN</td>\n",
       "    </tr>\n",
       "    <tr>\n",
       "      <th>4</th>\n",
       "      <td>/games/boxart/full_4990510AmericaFrontccc.jpg</td>\n",
       "      <td>Call of Duty: Black Ops 3</td>\n",
       "      <td>PS4</td>\n",
       "      <td>Shooter</td>\n",
       "      <td>Activision</td>\n",
       "      <td>Treyarch</td>\n",
       "      <td>8.1</td>\n",
       "      <td>15.09</td>\n",
       "      <td>6.18</td>\n",
       "      <td>0.41</td>\n",
       "      <td>6.05</td>\n",
       "      <td>2.44</td>\n",
       "      <td>2015-11-06</td>\n",
       "      <td>2018-01-14</td>\n",
       "    </tr>\n",
       "  </tbody>\n",
       "</table>\n",
       "</div>"
      ],
      "text/plain": [
       "                                             img                        title  \\\n",
       "0  /games/boxart/full_6510540AmericaFrontccc.jpg           Grand Theft Auto V   \n",
       "1  /games/boxart/full_5563178AmericaFrontccc.jpg           Grand Theft Auto V   \n",
       "2                    /games/boxart/827563ccc.jpg  Grand Theft Auto: Vice City   \n",
       "3  /games/boxart/full_9218923AmericaFrontccc.jpg           Grand Theft Auto V   \n",
       "4  /games/boxart/full_4990510AmericaFrontccc.jpg    Call of Duty: Black Ops 3   \n",
       "\n",
       "  console    genre       publisher       developer  critic_score  total_sales  \\\n",
       "0     PS3   Action  Rockstar Games  Rockstar North           9.4        20.32   \n",
       "1     PS4   Action  Rockstar Games  Rockstar North           9.7        19.39   \n",
       "2     PS2   Action  Rockstar Games  Rockstar North           9.6        16.15   \n",
       "3    X360   Action  Rockstar Games  Rockstar North           NaN        15.86   \n",
       "4     PS4  Shooter      Activision        Treyarch           8.1        15.09   \n",
       "\n",
       "   na_sales  jp_sales  pal_sales  other_sales release_date last_update  \n",
       "0      6.37      0.99       9.85         3.12   2013-09-17         NaN  \n",
       "1      6.06      0.60       9.71         3.02   2014-11-18  2018-01-03  \n",
       "2      8.41      0.47       5.49         1.78   2002-10-28         NaN  \n",
       "3      9.06      0.06       5.33         1.42   2013-09-17         NaN  \n",
       "4      6.18      0.41       6.05         2.44   2015-11-06  2018-01-14  "
      ]
     },
     "execution_count": 12,
     "metadata": {},
     "output_type": "execute_result"
    }
   ],
   "source": [
    "df.head(5)"
   ]
  },
  {
   "cell_type": "code",
   "execution_count": 14,
   "id": "298694ad-1ab5-4b8b-8df1-7bb052755c10",
   "metadata": {},
   "outputs": [
    {
     "data": {
      "text/plain": [
       "(64016, 14)"
      ]
     },
     "execution_count": 14,
     "metadata": {},
     "output_type": "execute_result"
    }
   ],
   "source": [
    "df.shape"
   ]
  },
  {
   "cell_type": "code",
   "execution_count": 16,
   "id": "8a2b79cb-3eeb-4562-9b8a-c5f82c3e8c53",
   "metadata": {},
   "outputs": [
    {
     "data": {
      "text/html": [
       "<div>\n",
       "<style scoped>\n",
       "    .dataframe tbody tr th:only-of-type {\n",
       "        vertical-align: middle;\n",
       "    }\n",
       "\n",
       "    .dataframe tbody tr th {\n",
       "        vertical-align: top;\n",
       "    }\n",
       "\n",
       "    .dataframe thead th {\n",
       "        text-align: right;\n",
       "    }\n",
       "</style>\n",
       "<table border=\"1\" class=\"dataframe\">\n",
       "  <thead>\n",
       "    <tr style=\"text-align: right;\">\n",
       "      <th></th>\n",
       "      <th>critic_score</th>\n",
       "      <th>total_sales</th>\n",
       "      <th>na_sales</th>\n",
       "      <th>jp_sales</th>\n",
       "      <th>pal_sales</th>\n",
       "      <th>other_sales</th>\n",
       "    </tr>\n",
       "  </thead>\n",
       "  <tbody>\n",
       "    <tr>\n",
       "      <th>count</th>\n",
       "      <td>6678.000000</td>\n",
       "      <td>18922.000000</td>\n",
       "      <td>12637.000000</td>\n",
       "      <td>6726.000000</td>\n",
       "      <td>12824.000000</td>\n",
       "      <td>15128.000000</td>\n",
       "    </tr>\n",
       "    <tr>\n",
       "      <th>mean</th>\n",
       "      <td>7.220440</td>\n",
       "      <td>0.349113</td>\n",
       "      <td>0.264740</td>\n",
       "      <td>0.102281</td>\n",
       "      <td>0.149472</td>\n",
       "      <td>0.043041</td>\n",
       "    </tr>\n",
       "    <tr>\n",
       "      <th>std</th>\n",
       "      <td>1.457066</td>\n",
       "      <td>0.807462</td>\n",
       "      <td>0.494787</td>\n",
       "      <td>0.168811</td>\n",
       "      <td>0.392653</td>\n",
       "      <td>0.126643</td>\n",
       "    </tr>\n",
       "    <tr>\n",
       "      <th>min</th>\n",
       "      <td>1.000000</td>\n",
       "      <td>0.000000</td>\n",
       "      <td>0.000000</td>\n",
       "      <td>0.000000</td>\n",
       "      <td>0.000000</td>\n",
       "      <td>0.000000</td>\n",
       "    </tr>\n",
       "    <tr>\n",
       "      <th>25%</th>\n",
       "      <td>6.400000</td>\n",
       "      <td>0.030000</td>\n",
       "      <td>0.050000</td>\n",
       "      <td>0.020000</td>\n",
       "      <td>0.010000</td>\n",
       "      <td>0.000000</td>\n",
       "    </tr>\n",
       "    <tr>\n",
       "      <th>50%</th>\n",
       "      <td>7.500000</td>\n",
       "      <td>0.120000</td>\n",
       "      <td>0.120000</td>\n",
       "      <td>0.040000</td>\n",
       "      <td>0.040000</td>\n",
       "      <td>0.010000</td>\n",
       "    </tr>\n",
       "    <tr>\n",
       "      <th>75%</th>\n",
       "      <td>8.300000</td>\n",
       "      <td>0.340000</td>\n",
       "      <td>0.280000</td>\n",
       "      <td>0.120000</td>\n",
       "      <td>0.140000</td>\n",
       "      <td>0.030000</td>\n",
       "    </tr>\n",
       "    <tr>\n",
       "      <th>max</th>\n",
       "      <td>10.000000</td>\n",
       "      <td>20.320000</td>\n",
       "      <td>9.760000</td>\n",
       "      <td>2.130000</td>\n",
       "      <td>9.850000</td>\n",
       "      <td>3.120000</td>\n",
       "    </tr>\n",
       "  </tbody>\n",
       "</table>\n",
       "</div>"
      ],
      "text/plain": [
       "       critic_score   total_sales      na_sales     jp_sales     pal_sales  \\\n",
       "count   6678.000000  18922.000000  12637.000000  6726.000000  12824.000000   \n",
       "mean       7.220440      0.349113      0.264740     0.102281      0.149472   \n",
       "std        1.457066      0.807462      0.494787     0.168811      0.392653   \n",
       "min        1.000000      0.000000      0.000000     0.000000      0.000000   \n",
       "25%        6.400000      0.030000      0.050000     0.020000      0.010000   \n",
       "50%        7.500000      0.120000      0.120000     0.040000      0.040000   \n",
       "75%        8.300000      0.340000      0.280000     0.120000      0.140000   \n",
       "max       10.000000     20.320000      9.760000     2.130000      9.850000   \n",
       "\n",
       "        other_sales  \n",
       "count  15128.000000  \n",
       "mean       0.043041  \n",
       "std        0.126643  \n",
       "min        0.000000  \n",
       "25%        0.000000  \n",
       "50%        0.010000  \n",
       "75%        0.030000  \n",
       "max        3.120000  "
      ]
     },
     "execution_count": 16,
     "metadata": {},
     "output_type": "execute_result"
    }
   ],
   "source": [
    "df.describe()"
   ]
  },
  {
   "cell_type": "code",
   "execution_count": 18,
   "id": "3da87e04-67a9-4154-bfa5-a5b160c3d4c4",
   "metadata": {},
   "outputs": [
    {
     "name": "stdout",
     "output_type": "stream",
     "text": [
      "<class 'pandas.core.frame.DataFrame'>\n",
      "RangeIndex: 64016 entries, 0 to 64015\n",
      "Data columns (total 14 columns):\n",
      " #   Column        Non-Null Count  Dtype  \n",
      "---  ------        --------------  -----  \n",
      " 0   img           64016 non-null  object \n",
      " 1   title         64016 non-null  object \n",
      " 2   console       64016 non-null  object \n",
      " 3   genre         64016 non-null  object \n",
      " 4   publisher     64016 non-null  object \n",
      " 5   developer     63999 non-null  object \n",
      " 6   critic_score  6678 non-null   float64\n",
      " 7   total_sales   18922 non-null  float64\n",
      " 8   na_sales      12637 non-null  float64\n",
      " 9   jp_sales      6726 non-null   float64\n",
      " 10  pal_sales     12824 non-null  float64\n",
      " 11  other_sales   15128 non-null  float64\n",
      " 12  release_date  56965 non-null  object \n",
      " 13  last_update   17879 non-null  object \n",
      "dtypes: float64(6), object(8)\n",
      "memory usage: 6.8+ MB\n"
     ]
    }
   ],
   "source": [
    "df.info()"
   ]
  },
  {
   "cell_type": "code",
   "execution_count": 22,
   "id": "d2ada012-a00c-496e-bce5-b197506873ae",
   "metadata": {},
   "outputs": [
    {
     "data": {
      "text/plain": [
       "critic_score    57338\n",
       "jp_sales        57290\n",
       "na_sales        51379\n",
       "pal_sales       51192\n",
       "other_sales     48888\n",
       "last_update     46137\n",
       "total_sales     45094\n",
       "release_date     7051\n",
       "developer          17\n",
       "img                 0\n",
       "title               0\n",
       "console             0\n",
       "genre               0\n",
       "publisher           0\n",
       "dtype: int64"
      ]
     },
     "execution_count": 22,
     "metadata": {},
     "output_type": "execute_result"
    }
   ],
   "source": [
    "df.isna().sum().sort_values(ascending=False)"
   ]
  },
  {
   "cell_type": "markdown",
   "id": "1a26c9c1-ba44-4311-8e11-316d51bf0314",
   "metadata": {},
   "source": [
    "#### 2.2 - Limpeza de Dados\n",
    "- Identificar dados incorretos ou irrelevantes e substituí-los ou removê-los"
   ]
  },
  {
   "cell_type": "markdown",
   "id": "40107349-7de8-439c-91c6-1864abfcc48f",
   "metadata": {},
   "source": [
    "#### Removendo as duplicatas dos dataframes\n"
   ]
  },
  {
   "cell_type": "code",
   "execution_count": 26,
   "id": "79b52e42-78ac-48dd-b839-1bb705befb29",
   "metadata": {},
   "outputs": [
    {
     "data": {
      "text/plain": [
       "(64016, 14)"
      ]
     },
     "execution_count": 26,
     "metadata": {},
     "output_type": "execute_result"
    }
   ],
   "source": [
    "df = df.drop_duplicates()\n",
    "\n",
    "df.shape"
   ]
  },
  {
   "cell_type": "markdown",
   "id": "1ba7ed40-382d-41b7-95d9-e5502b721613",
   "metadata": {},
   "source": [
    "#### Removendo zeros\n"
   ]
  },
  {
   "cell_type": "code",
   "execution_count": 30,
   "id": "85c42ea9-b6c3-4d61-ba8d-0b6191d5d82c",
   "metadata": {},
   "outputs": [],
   "source": [
    "for column in df.select_dtypes(include=['float64', 'int64']):\n",
    "    df[column] = df[column].fillna(df[column].mean())\n"
   ]
  },
  {
   "cell_type": "markdown",
   "id": "c80c2b57-82fb-40cb-b669-00c3008f91cc",
   "metadata": {},
   "source": [
    "### 2.3 Análise Exploratória"
   ]
  },
  {
   "cell_type": "code",
   "execution_count": null,
   "id": "52ad52e5-849f-4757-be75-7c0bedb5f3dc",
   "metadata": {},
   "outputs": [],
   "source": [
    "import pandas as pd\n",
    "\n",
    "# 1. Verificar a distribuição de valores únicos por coluna\n",
    "print(\"\\nValores únicos por coluna:\")\n",
    "for column in df.columns:\n",
    "    print(f\"{column}: {df[column].nunique()} valores únicos\")\n",
    "\n",
    "# 2. Identificar colunas numéricas e categóricas\n",
    "numerical_columns = df.select_dtypes(include=['float64', 'int64']).columns\n",
    "categorical_columns = df.select_dtypes(include=['object']).columns\n",
    "print(\"\\nColunas numéricas:\", numerical_columns.tolist())\n",
    "print(\"\\nColunas categóricas:\", categorical_columns.tolist())\n",
    "\n",
    "# 3. Análise de frequências para variáveis categóricas\n",
    "print(\"\\nAnálise de frequências para variáveis categóricas:\")\n",
    "for column in categorical_columns:\n",
    "    print(f\"\\nFrequência da variável {column}:\")\n",
    "    print(df[column].value_counts(normalize=True).head(10))  # Top 10 valores mais frequentes\n",
    "\n",
    "# 5. Análise de combinações entre variáveis categóricas\n",
    "if len(categorical_columns) > 1:\n",
    "    print(\"\\nCombinações de frequências entre variáveis categóricas:\")\n",
    "    for col1 in categorical_columns[:2]:  # Limitar a análise inicial\n",
    "        for col2 in categorical_columns[1:]:\n",
    "            if col1 != col2:\n",
    "                print(f\"\\nCruzamento entre {col1} e {col2}:\")\n",
    "                print(pd.crosstab(df[col1], df[col2], normalize='index').head())\n",
    "\n",
    "# 6. Análise de agrupamentos para colunas numéricas\n",
    "print(\"\\nAgrupamentos com colunas numéricas:\")\n",
    "for cat_col in categorical_columns:\n",
    "    print(f\"\\nMédias das colunas numéricas agrupadas por {cat_col}:\")\n",
    "    print(df.groupby(cat_col)[numerical_columns].mean().head())\n",
    "\n",
    "# 7. Criação de novas variáveis baseadas em operações existentes\n",
    "print(\"\\nCriando novas variáveis:\")\n",
    "if len(numerical_columns) >= 2:\n",
    "    df['soma_numericas'] = df[numerical_columns[0]] + df[numerical_columns[1]]\n",
    "    df['dif_numericas'] = df[numerical_columns[0]] - df[numerical_columns[1]]\n",
    "    print(\"Novas colunas criadas: 'soma_numericas' e 'dif_numericas'\")\n",
    "    print(df[['soma_numericas', 'dif_numericas']].head())\n",
    "\n",
    "# 8. Detecção de valores raros ou outliers simples\n",
    "print(\"\\nValores raros em variáveis categóricas:\")\n",
    "for column in categorical_columns:\n",
    "    rare_values = df[column].value_counts()[df[column].value_counts() < 5]\n",
    "    print(f\"\\nValores raros na variável {column}:\")\n",
    "    print(rare_values)\n",
    "\n",
    "print(\"\\nFinalizado!\")\n"
   ]
  },
  {
   "cell_type": "markdown",
   "id": "51d3fda1-79d4-4a97-b760-9902cd6cdd76",
   "metadata": {},
   "source": [
    "#### Os gêneros mais vendidos"
   ]
  },
  {
   "cell_type": "code",
   "execution_count": null,
   "id": "07057d60-8827-422d-bcf2-ec5b4a88a452",
   "metadata": {},
   "outputs": [],
   "source": []
  },
  {
   "cell_type": "markdown",
   "id": "0c941a72-0990-452c-b791-7b3d7ab9a2b7",
   "metadata": {},
   "source": [
    "### 2.4 Visualizações (Gráficos)"
   ]
  },
  {
   "cell_type": "markdown",
   "id": "52b0be8b-2a39-4897-a32c-92e2395277c3",
   "metadata": {},
   "source": [
    "#### Gráfico de Barras"
   ]
  },
  {
   "cell_type": "code",
   "execution_count": null,
   "id": "bed118de-a007-48fb-b06e-15d69e310529",
   "metadata": {},
   "outputs": [],
   "source": [
    "import matplotlib.pyplot as plt\n",
    "import seaborn as sns\n",
    "\n",
    "# Exemplo de gráfico de barras\n",
    "plt.figure(figsize=(8, 6))\n",
    "sns.countplot(data=data, x='coluna_categorica')\n",
    "plt.title('Gráfico de Barras')\n",
    "plt.xlabel('Categorias')\n",
    "plt.ylabel('Contagem')\n",
    "plt.xticks(rotation=45)\n",
    "plt.show()\n"
   ]
  },
  {
   "cell_type": "markdown",
   "id": "7fa8346e-0a86-4ee9-8a27-25237418b319",
   "metadata": {},
   "source": [
    "#### Histograma"
   ]
  },
  {
   "cell_type": "code",
   "execution_count": null,
   "id": "192aefd4-afbc-4497-81c8-33aa4062e744",
   "metadata": {},
   "outputs": [],
   "source": [
    "# Exemplo de histograma\n",
    "plt.figure(figsize=(8, 6))\n",
    "sns.histplot(data=data, x='coluna_numerica', bins=20, kde=True, color='blue')\n",
    "plt.title('Histograma')\n",
    "plt.xlabel('Valores')\n",
    "plt.ylabel('Frequência')\n",
    "plt.show()\n"
   ]
  },
  {
   "cell_type": "markdown",
   "id": "bbd01a5a-9d87-4630-a9d8-ac5b0ac4f6c7",
   "metadata": {},
   "source": [
    "#### Gráfico de disperção (Scatterplot)"
   ]
  },
  {
   "cell_type": "code",
   "execution_count": null,
   "id": "efc2ce45-1feb-4aad-a285-f8021f9c923e",
   "metadata": {},
   "outputs": [],
   "source": [
    "# Exemplo de scatterplot\n",
    "plt.figure(figsize=(8, 6))\n",
    "sns.scatterplot(data=data, x='coluna_x', y='coluna_y', hue='coluna_categorica')\n",
    "plt.title('Gráfico de Dispersão')\n",
    "plt.xlabel('Coluna X')\n",
    "plt.ylabel('Coluna Y')\n",
    "plt.legend(title='Legenda')\n",
    "plt.show()\n"
   ]
  },
  {
   "cell_type": "markdown",
   "id": "b105d0d3-8db5-4e52-8d41-c1ef745b9a82",
   "metadata": {},
   "source": [
    "#### Boxplot"
   ]
  },
  {
   "cell_type": "code",
   "execution_count": null,
   "id": "c06a64cf-72dd-4519-8f50-94c513fa8291",
   "metadata": {},
   "outputs": [],
   "source": [
    "# Exemplo de boxplot\n",
    "plt.figure(figsize=(8, 6))\n",
    "sns.boxplot(data=data, x='coluna_categorica', y='coluna_numerica', palette='Set2')\n",
    "plt.title('Boxplot')\n",
    "plt.xlabel('Categorias')\n",
    "plt.ylabel('Valores')\n",
    "plt.xticks(rotation=45)\n",
    "plt.show()\n"
   ]
  },
  {
   "cell_type": "markdown",
   "id": "a44a1e99-4f40-48c5-b1c8-5bc649416332",
   "metadata": {},
   "source": [
    "#### Heatmap "
   ]
  },
  {
   "cell_type": "code",
   "execution_count": null,
   "id": "a613eac2-d285-4cfa-a955-c666ce332666",
   "metadata": {},
   "outputs": [],
   "source": [
    "# Exemplo de mapa de calor para correlações\n",
    "plt.figure(figsize=(10, 8))\n",
    "correlacao = data.corr()\n",
    "sns.heatmap(correlacao, annot=True, cmap='coolwarm', fmt=\".2f\")\n",
    "plt.title('Mapa de Calor das Correlações')\n",
    "plt.show()\n"
   ]
  },
  {
   "cell_type": "markdown",
   "id": "7aea3a59-254a-4475-a7dc-e78616d7e99f",
   "metadata": {},
   "source": [
    "#### Gráfico de linha"
   ]
  },
  {
   "cell_type": "code",
   "execution_count": null,
   "id": "02101cad-12d6-4637-b2f5-6c7a32c01e80",
   "metadata": {},
   "outputs": [],
   "source": [
    "# Exemplo de gráfico de linha\n",
    "plt.figure(figsize=(8, 6))\n",
    "sns.lineplot(data=data, x='coluna_temporal', y='coluna_valores', hue='coluna_categorica')\n",
    "plt.title('Gráfico de Linha')\n",
    "plt.xlabel('Eixo X')\n",
    "plt.ylabel('Eixo Y')\n",
    "plt.show()\n"
   ]
  },
  {
   "cell_type": "markdown",
   "id": "426dfed4-5763-47c5-ab1a-5d1fb6883e16",
   "metadata": {},
   "source": [
    "#### Pairplot (Relações entre variáveis numéricas)"
   ]
  },
  {
   "cell_type": "code",
   "execution_count": null,
   "id": "4cd87184-53c8-4202-9684-33bcf6655002",
   "metadata": {},
   "outputs": [],
   "source": [
    "# Exemplo de pairplot\n",
    "sns.pairplot(data=data, hue='coluna_categorica', diag_kind='kde')\n",
    "plt.suptitle('Pairplot', y=1.02)\n",
    "plt.show()\n"
   ]
  },
  {
   "cell_type": "code",
   "execution_count": null,
   "id": "3ce4e1df-af40-440c-a2d2-21edfd485ec4",
   "metadata": {},
   "outputs": [],
   "source": [
    "import streamlit as st\n",
    "import pandas as pd\n",
    "import seaborn as sns\n",
    "import matplotlib.pyplot as plt\n",
    "from scipy import stats\n",
    "\n",
    "# Título da aplicação\n",
    "st.title(\"Análise de Dados com Streamlit\")\n",
    "st.write(\"Neste exemplo, estamos realizando uma análise estatística e visualizando os dados.\")\n",
    "\n",
    "# Carregar os dados de um arquivo CSV (suponha que você tenha um arquivo 'dados.csv')\n",
    "# No caso, substitua pelo caminho do seu arquivo ou URL de um arquivo CSV\n",
    "df = pd.read_csv(\"dados.csv\")  # Exemplo de leitura do arquivo CSV\n",
    "\n",
    "# Exibir os dados carregados\n",
    "st.write(\"Exemplo de dados carregados:\")\n",
    "st.write(df.head())  # Exibe as 5 primeiras linhas do DataFrame\n",
    "\n",
    "# Assumindo que o DataFrame tenha duas colunas de interesse para o t-test\n",
    "# Substitua os nomes das colunas conforme seu DataFrame\n",
    "grupo1 = df['grupo1']  # Substitua 'grupo1' pelo nome real da coluna\n",
    "grupo2 = df['grupo2']  # Substitua 'grupo2' pelo nome real da coluna\n",
    "\n",
    "# Realizando a análise estatística (t-test)\n",
    "t_stat, p_value = stats.ttest_ind(grupo1, grupo2)\n",
    "\n",
    "# Exibindo os resultados do t-test\n",
    "st.subheader(\"Resultado do t-test\")\n",
    "st.write(f\"Estatística t: {t_stat:.3f}\")\n",
    "st.write(f\"Valor-p: {p_value:.3f}\")\n",
    "\n",
    "# Interpretação do valor-p\n",
    "if p_value < 0.05:\n",
    "    st.write(\"O valor-p é menor que 0.05, indicando que as médias dos dois grupos são significativamente diferentes.\")\n",
    "else:\n",
    "    st.write(\"O valor-p é maior ou igual a 0.05, indicando que não há diferença significativa entre os grupos.\")\n",
    "\n",
    "# Visualização dos dados\n",
    "st.subheader(\"Distribuição dos Grupos\")\n",
    "fig, ax = plt.subplots()\n",
    "sns.histplot(grupo1, kde=True, color='blue', label='Grupo 1', ax=ax)\n",
    "sns.histplot(grupo2, kde=True, color='red', label='Grupo 2', ax=ax)\n",
    "ax.legend()\n",
    "st.pyplot(fig)\n"
   ]
  }
 ],
 "metadata": {
  "kernelspec": {
   "display_name": "Python 3 (ipykernel)",
   "language": "python",
   "name": "python3"
  },
  "language_info": {
   "codemirror_mode": {
    "name": "ipython",
    "version": 3
   },
   "file_extension": ".py",
   "mimetype": "text/x-python",
   "name": "python",
   "nbconvert_exporter": "python",
   "pygments_lexer": "ipython3",
   "version": "3.12.4"
  }
 },
 "nbformat": 4,
 "nbformat_minor": 5
}
